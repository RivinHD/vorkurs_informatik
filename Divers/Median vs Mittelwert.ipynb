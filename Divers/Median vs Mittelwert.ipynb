{
 "cells": [
  {
   "cell_type": "code",
   "execution_count": 122,
   "id": "3e0093f6",
   "metadata": {},
   "outputs": [],
   "source": [
    "import numpy as np\n",
    "import matplotlib.pyplot as plt"
   ]
  },
  {
   "cell_type": "markdown",
   "id": "71395db2",
   "metadata": {},
   "source": [
    "Wir erzeugen zuerst einige Punkte. Diese sind Normalverteilt mit Mittelwert 10 und Varianz 5."
   ]
  },
  {
   "cell_type": "code",
   "execution_count": 123,
   "id": "648e71db",
   "metadata": {},
   "outputs": [
    {
     "name": "stdout",
     "output_type": "stream",
     "text": [
      "[20.33291425340098, 0.34368342732236457, 10.577149803523437, 15.226660638224427, 2.1771956388928215, 4.8878259393095895, 15.27088134734381, 12.225704876469184, 8.946075902120539, 10.081143016294572]\n"
     ]
    }
   ],
   "source": [
    "points = []\n",
    "for i in range(10):\n",
    "    points.append(np.random.normal(10.0, 5.0))\n",
    "\n",
    "print(points)"
   ]
  },
  {
   "cell_type": "markdown",
   "id": "9189452a",
   "metadata": {},
   "source": [
    "Wir können uns diese Punkte nun einfach mal auf einer Geraden anschauen und sehen, sie sind natürlich um die 10 herum verteilt."
   ]
  },
  {
   "cell_type": "code",
   "execution_count": 124,
   "id": "2c503bc7",
   "metadata": {},
   "outputs": [
    {
     "data": {
      "text/plain": [
       "[<matplotlib.lines.Line2D at 0x1e44f3e9470>]"
      ]
     },
     "execution_count": 124,
     "metadata": {},
     "output_type": "execute_result"
    },
    {
     "data": {
      "image/png": "[encoded data removed]",
      "text/plain": [
       "<Figure size 432x288 with 1 Axes>"
      ]
     },
     "metadata": {
      "needs_background": "light"
     },
     "output_type": "display_data"
    }
   ],
   "source": [
    "plt.plot(points, [1]*len(points), \"s\")"
   ]
  },
  {
   "cell_type": "markdown",
   "id": "d02a7c83",
   "metadata": {},
   "source": [
    "Nun erzeugen wir eine zweite Liste mit allen Punkten aus der ersten und einen zusätzlichen Punkt 10e10 = 10000000000"
   ]
  },
  {
   "cell_type": "code",
   "execution_count": 125,
   "id": "2822e309",
   "metadata": {},
   "outputs": [],
   "source": [
    "points2 = points.copy()\n",
    "points2.append(1e10)"
   ]
  },
  {
   "cell_type": "markdown",
   "id": "1070e406",
   "metadata": {},
   "source": [
    "Hier schauen wir das einmal an und wir sehen alle anderen Punkte liegen ganz nah beieinander und ganz rechts ist ein Ausreißer. "
   ]
  },
  {
   "cell_type": "code",
   "execution_count": 126,
   "id": "8249084b",
   "metadata": {},
   "outputs": [
    {
     "data": {
      "text/plain": [
       "[<matplotlib.lines.Line2D at 0x1e44f234ac8>]"
      ]
     },
     "execution_count": 126,
     "metadata": {},
     "output_type": "execute_result"
    },
    {
     "data": {
      "image/png": "[encoded data removed]",
      "text/plain": [
       "<Figure size 432x288 with 1 Axes>"
      ]
     },
     "metadata": {
      "needs_background": "light"
     },
     "output_type": "display_data"
    }
   ],
   "source": [
    "plt.plot(points2, [1]*len(points), \"s\")"
   ]
  },
  {
   "cell_type": "markdown",
   "id": "e97eeeb5",
   "metadata": {},
   "source": [
    "Schauen wir uns nun einmal den berechneten Mittelwert und Median der beiden Listen an. Wir sehen, dass der Median auf der 2. Liste viel stabiler ist."
   ]
  },
  {
   "cell_type": "code",
   "execution_count": 127,
   "id": "8223f6a0",
   "metadata": {},
   "outputs": [
    {
     "name": "stdout",
     "output_type": "stream",
     "text": [
      "Mean 10.006923484290173 vs 909090918.1881123\n"
     ]
    }
   ],
   "source": [
    "print(\"Mean\", np.mean(points), \"vs\", np.mean(points2))"
   ]
  },
  {
   "cell_type": "code",
   "execution_count": 128,
   "id": "7343d782",
   "metadata": {},
   "outputs": [
    {
     "name": "stdout",
     "output_type": "stream",
     "text": [
      "Median 10.329146409909004 vs 10.577149803523437\n"
     ]
    }
   ],
   "source": [
    "print(\"Median\", np.median(points), \"vs\", np.median(points2))"
   ]
  }
 ],
 "metadata": {
  "kernelspec": {
   "display_name": "Python 3",
   "language": "python",
   "name": "python3"
  },
  "language_info": {
   "codemirror_mode": {
    "name": "ipython",
    "version": 3
   },
   "file_extension": ".py",
   "mimetype": "text/x-python",
   "name": "python",
   "nbconvert_exporter": "python",
   "pygments_lexer": "ipython3",
   "version": "3.7.3"
  }
 },
 "nbformat": 4,
 "nbformat_minor": 5
}
