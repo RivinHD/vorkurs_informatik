{
 "cells": [
  {
   "cell_type": "markdown",
   "source": [
    "# Python\n",
    "Python ist eine interpretierte Sprache und wurden 1991 von Guido van Rossum entwickelt. Man unterscheidet Python 2 und Python 3. Wir werden hier mit Python 3 arbeiten.\n",
    "\n",
    "## Installation und Start\n",
    "Python kann über die Website www.python.org heruntergeladen und installiert werden. In der Konsole kann die Pythonumgebung dann mit dem Befehl `python3` gestartet werden. \n",
    "\n",
    "Wir werden hier ein Jupyter Notebook verwenden.\n",
    "\n",
    "## Jupyter Notebook\n",
    "Ein Jupyter Notebook erlaubt uns Programmcode direkt auszuführen. Hierfür können wir in einer Zelle einfach **Shift + Enter** klicken und der Inhalt wird ausgeführt und ausgewertet. Um eine Zelle zu bearbeiten klickt man einfach in die Zelle.\n",
    "\n",
    "## Python Objekte, Basistypen und Variablen\n",
    "Alles in Python ist ein Objekt und hat einen Typ. Einige Typen sind:\n",
    "* **`int`** (Integer, eine ganze Zahl)\n",
    "    * `4`\n",
    "    * `-6`\n",
    "* **`float`** (Float, eine Gleitkommazahl)\n",
    "    * `4.4`\n",
    "    * `-0.013`\n",
    "* **`str`** (String, Zeichenketten welche in Anführungsstrichen stehen)\n",
    "    * `'Dies ist ein String in einfachen Hochkommas.'`\n",
    "    * `\"Dies ist ein String in doppelten Hochkommas.\"`\n",
    "* **`bool`** (Boolean, Wahrheitswerte die entweder wahr oder falsch sind)\n",
    "    * `True`\n",
    "    * `False`\n",
    "* **NoneType**\n",
    "    * `None`\n",
    "\n",
    "Eine Variable ist einfach ein Name welchen man ein Objekt zuordnet. Beispielsweise weist `a=3.4` der Variablen `a` den Wert `3.4` zu. Im Programmcode kann dann durch den Variablennamen auf diesen Wert verwiesen werden. Variablennamen dürfen Buchstaben, Zahlen und Unterstriche enthalten, wobei sie nicht mit einer Zahl starten dürfen.\n",
    "\n",
    "## Basis Operatoren\n",
    "Es gibt verschiedene Operatoren welche auf verschiedenen Werten arbeiten und durch spezielle Symbole gekennzeichnet werden. Eine Auswahl beeinhaltet:\n",
    "* Arithmetische Operationen\n",
    "    * `+` (Addition)\n",
    "    * `-` (Subtraktion)\n",
    "    * `*` (Multiplikation)\n",
    "    * `/`(Division)\n",
    "    * `//`(Ganzzahlige Division)\n",
    "    * `**` (Exponent)\n",
    "    * `%` (Modulo)\n",
    "* Zuweisungsoperatoren\n",
    "    * `=` (Zuweisung eines Wertes)\n",
    "    * `+=` (Addition und erneute Zuweisung eines Wertes)\n",
    "    * `-=` (Subtraktion und erneute Zuweisung eines Wertes)\n",
    "    * `*=` (Multiplikation und erneute Zuweisung eines Wertes)\n",
    "* Vergleichoperatoren (liefern `True` oder `False`)\n",
    "    * `==` (Gleichheit)\n",
    "    * `!=` (Ungleich)\n",
    "    * `<` (Kleiner)\n",
    "    * `<=` (Kleiner Gleich)\n",
    "    * `>` (Größer)\n",
    "    * `>=` (Größer Gleich)\n",
    "* Logische Operatoren (Verknüpfen Aussagen, die `True` oder `False` liefern\n",
    "    * `and` (Und)\n",
    "    * `or` (Oder)\n",
    "    * `not` (Nicht)\n",
    "    \n",
    "Operatoren können mithilfe von Klammern `()` gruppiert werden. Außerdem gibt es eine Ausführungsreihenfolge, welche die folgende Liste von oben nach unten liefert:\n",
    "1. `()`\n",
    "2. `**`\n",
    "3. `*,/`\n",
    "4. `+,-`\n",
    "5. `==, !=, <, <=, >, >=`\n",
    "\n",
    "Umso weiter unten ein Operator steht umso später wird diese ausgeführt.\n",
    "\n",
    "## Kommentare\n",
    "In Python werden Kommentare (nicht ausgewerteter Code) mit einem Doppelkreuz (`#`) begonnen.\n",
    "\n",
    "## Beispiel\n",
    "In diesem Beispiel werden zwei Variablen `a` und `b` erzeugt und ihnen die Werte `1` und `2` hinzugefügt. Diese werden mit verschiedenen Operationen verknüpft."
   ],
   "metadata": {}
  },
  {
   "cell_type": "code",
   "execution_count": 1,
   "source": [
    "a = 5\n",
    "b = 27"
   ],
   "outputs": [],
   "metadata": {}
  },
  {
   "cell_type": "code",
   "execution_count": 2,
   "source": [
    "a+b"
   ],
   "outputs": [
    {
     "output_type": "execute_result",
     "data": {
      "text/plain": [
       "32"
      ]
     },
     "metadata": {},
     "execution_count": 2
    }
   ],
   "metadata": {}
  },
  {
   "cell_type": "code",
   "execution_count": 3,
   "source": [
    "a**2 - b"
   ],
   "outputs": [
    {
     "output_type": "execute_result",
     "data": {
      "text/plain": [
       "-2"
      ]
     },
     "metadata": {},
     "execution_count": 3
    }
   ],
   "metadata": {}
  },
  {
   "cell_type": "code",
   "execution_count": 4,
   "source": [
    "a-b == b-a"
   ],
   "outputs": [
    {
     "output_type": "execute_result",
     "data": {
      "text/plain": [
       "False"
      ]
     },
     "metadata": {},
     "execution_count": 4
    }
   ],
   "metadata": {}
  },
  {
   "cell_type": "code",
   "execution_count": 5,
   "source": [
    "a%b # Rest nach der Division"
   ],
   "outputs": [
    {
     "output_type": "execute_result",
     "data": {
      "text/plain": [
       "5"
      ]
     },
     "metadata": {},
     "execution_count": 5
    }
   ],
   "metadata": {}
  },
  {
   "cell_type": "code",
   "execution_count": 6,
   "source": [
    "b // a # Ganzzahlig Teilen"
   ],
   "outputs": [
    {
     "output_type": "execute_result",
     "data": {
      "text/plain": [
       "5"
      ]
     },
     "metadata": {},
     "execution_count": 6
    }
   ],
   "metadata": {}
  },
  {
   "cell_type": "markdown",
   "source": [
    "## Aufgaben\n",
    "* Legen zwei Variablen `alter` und `name` mit deinem Alter und deinem Namen. Versuche danach folgenden Satz auszugeben: \"_name_ ist _alter_*12 Monate alt.\" _Hinweis: `str(4)` übersetzt die Zahl 4 in eine Zeichenkette, `print('hallo')` gibt `'hallo'` aus._\n",
    "* Addiere zwei Zahlen\n",
    "* Teile durch Null"
   ],
   "metadata": {}
  },
  {
   "cell_type": "code",
   "execution_count": 7,
   "source": [
    "# Hier kommt dein Lösungscode, den du mit Shift+Enter ausführen kannst.\n",
    "alter = 22\n",
    "name = \"Julien\"\n",
    "text = name + \" ist \" + str(alter*12) + \" Monate alt.\"\n",
    "print(text)\n",
    "# Alternative\n",
    "print(name, \"ist\", alter*12, \"Monate alt.\")"
   ],
   "outputs": [
    {
     "output_type": "stream",
     "name": "stdout",
     "text": [
      "Julien ist 264 Monate alt.\n",
      "Julien ist 264 Monate alt.\n"
     ]
    }
   ],
   "metadata": {}
  },
  {
   "cell_type": "markdown",
   "source": [
    "## Kontrollstrukturen\n",
    "### Verzweigungen (`if`)\n",
    "Häufig möchte man aufgrund einer Bedingung den Programmcode unterbrechen. Python liefert uns dafür die `if`, `elif` und `else` Befehle. Diese erhalten nachfolgend (bis auf `else`) einen Ausdruck der zu `True` oder `False` ausgewertet werden kann. Darauf folgt ein Doppelpunkt und in der nächsten Zeile mit einem TAB eingerückt der Programmcode, der ausgeführt werden soll, wenn der Ausdruck wahr ist. Folgendes Beispiel verdeutlicht die Benutzung der Verzweigung. Wir verwenden den `print` Befehl um etwas auszugeben."
   ],
   "metadata": {}
  },
  {
   "cell_type": "code",
   "execution_count": 8,
   "source": [
    "alter = 30\n",
    "if alter <= 12:\n",
    "    print(\"Du bist ein Teen.\")\n",
    "elif alter < 65:\n",
    "    print(\"Du musst leider noch arbeiten.\")\n",
    "else:\n",
    "    print(\"Dub ist alt.\")"
   ],
   "outputs": [
    {
     "output_type": "stream",
     "name": "stdout",
     "text": [
      "Du musst leider noch arbeiten.\n"
     ]
    }
   ],
   "metadata": {}
  },
  {
   "cell_type": "markdown",
   "source": [
    "Da wir zwischen `12` und `65` sind müssen wir leider noch arbeiten. \n",
    "\n",
    "### Aufgaben\n",
    "* Verändere das obige Programm (einfach in die Zelle klicken und danach mit Shift+Enter bestätigen) in die Richtung, dass man nun bis `70` arbeiten muss. Lege nach `alter` eine zusätzliche Variable `reich` an, welche entweder `True` oder `False` sein kann. Wenn man jünger als `70` ist und `reich`, dann muss man nicht arbeiten. Fügen Sie diese Verzweigung hinzu.\n",
    "* Sortiere zwei vorher festgelegte Zahlen mithilfe von Verzweigungen. \n",
    "* Sortiere drei vorher festgelegte Zahlen und gib sie in der Richtigen Reihenfolge aus.\n",
    "* Überprüfe, ob ein Jahr ein Schaltjahr ist. Dabei gelten folgende Regeln:\n",
    "    * Jahr ist nicht durch vier teilbar -> kein Schaltjahr\n",
    "    * Jahr durch 4 teilbar -> Schaltjahr\n",
    "    * Jahr durch 100 teilbar -> kein Schaltjahr\n",
    "    * Jahr durch 400 teilbar -> Schaltjahr"
   ],
   "metadata": {}
  },
  {
   "cell_type": "code",
   "execution_count": 9,
   "source": [
    "# Lösung\n",
    "# A\n",
    "alter = 30\n",
    "reich = True\n",
    "if alter <= 12:\n",
    "    print(\"Du bist ein Teen.\")\n",
    "elif alter <= 70 and not reich:\n",
    "    print(\"Du musst leider noch arbeiten.\")\n",
    "else:\n",
    "    print(\"Du ist alt oder reich.\")\n",
    "    \n",
    "# B\n",
    "a = 3\n",
    "b = 2\n",
    "if a < b:\n",
    "    print(a,b)\n",
    "else:\n",
    "    print(b,a)\n",
    "    \n",
    "# C\n",
    "a = 3\n",
    "b = 2\n",
    "c = 5\n",
    "if a < b and b < c:\n",
    "    print(a, b, c)\n",
    "elif a < b and c < b and a < c:\n",
    "    print(a, c, b)\n",
    "elif a < b and c < b:\n",
    "    print(c, a, b)\n",
    "elif b < a and c < a and b < c:\n",
    "    print(b, c, a)\n",
    "elif b < a and a < c:\n",
    "    print(b, a, c)\n",
    "else:\n",
    "    print(c, b, a)\n",
    "    \n",
    "# D\n",
    "jahr = 400\n",
    "if jahr % 4 != 0:\n",
    "    print(\"Kein Schaltjahr.\")\n",
    "else:\n",
    "    if jahr % 100 == 0:\n",
    "        if jahr % 400 == 0:\n",
    "            print(\"Ein Schaltjahr.\")\n",
    "        else:\n",
    "            print(\"Kein Schaltjahr.\")\n",
    "    else:\n",
    "        print(\"Ein Schaltjahr.\")"
   ],
   "outputs": [
    {
     "output_type": "stream",
     "name": "stdout",
     "text": [
      "Du ist alt oder reich.\n",
      "2 3\n",
      "2 3 5\n",
      "Ein Schaltjahr.\n"
     ]
    }
   ],
   "metadata": {}
  },
  {
   "cell_type": "markdown",
   "source": [
    "### Schleifen (`for`, `while`)\n",
    "Wenn man Programmcode mehrfach ausführen möchte bieten sich hierfür Schleifen an. Python verwendet für diese die Schlüsselworte `while` und `for`. Auch diese erhalten einen Ausdruck und werden mit einem Doppelpunkt eingeführt. Die `for` Schleife läuft dabei immer über eine Liste von Objekten (wir erfahren gleich was eine Liste ist), deshalb ist die Syntax für diese `for _object_ in _liste_`, wobei in jedem Schleifenschritt ein Objekt der Liste sich in `_objekt_` befindet. Es bietet sich auch der Befehl `range(start, stop, schritt)` an. Diesem können bis zu drei Parameter übergeben werden. So kann man mit `range(1,10,2)` die Zahlen `1,3,5,7,9` erhalten. Das folgende Beispiel zeigt dies im Code sowohl für die `for` als auch die `while` Schleife."
   ],
   "metadata": {}
  },
  {
   "cell_type": "code",
   "execution_count": 10,
   "source": [
    "start = 1\n",
    "stop = 10\n",
    "schritt = 2\n",
    "\n",
    "print(\"For Schleife:\")\n",
    "\n",
    "for i in range(start, stop, schritt):\n",
    "    print(i)\n",
    "\n",
    "print(\"While Schleife:\")\n",
    "object_variable = start\n",
    "while object_variable < stop:\n",
    "    print(object_variable)\n",
    "    object_variable += 2"
   ],
   "outputs": [
    {
     "output_type": "stream",
     "name": "stdout",
     "text": [
      "For Schleife:\n",
      "1\n",
      "3\n",
      "5\n",
      "7\n",
      "9\n",
      "While Schleife:\n",
      "1\n",
      "3\n",
      "5\n",
      "7\n",
      "9\n"
     ]
    }
   ],
   "metadata": {}
  },
  {
   "cell_type": "markdown",
   "source": [
    "### Aufgaben\n",
    "* Versuche den obigen Quelltext zu verstehen. Kannst du eine `for` und `while` Schleife angeben, welche die ersten zehn Zweierpotenzen ausgibt (1,2,4,...,1024).\n",
    "* Gebe einen beliebigen Text vier mal aus.\n",
    "* Bilde die Summe für ein vorher festgelegtes n als $$\\sum_{i=1}^n \\frac{1}{i}$$ (Beispiel n=100 liefert 5.187377517639621). (Beispiel: n=100 liefert 5.187377517639621, **Hinweis:** range(1, 100) enthält nur die Zahlen 0 - 99.)\n",
    "* Berechne für eine feste Zahl die Fakultät."
   ],
   "metadata": {}
  },
  {
   "cell_type": "code",
   "execution_count": 11,
   "source": [
    "# Lösung\n",
    "# A\n",
    "for i in range(10):\n",
    "    print(2**i, end=\" \")\n",
    "\n",
    "print()\n",
    "start = 0\n",
    "stop = 10\n",
    "lauf_variable = start\n",
    "while lauf_variable < stop:\n",
    "    print(2**lauf_variable, end=\" \")\n",
    "    lauf_variable += 1\n",
    "print()\n",
    "\n",
    "# B \n",
    "beliebiger_text = \"beliebiger text\"\n",
    "for i in range(4):\n",
    "    print(beliebiger_text)\n",
    "# Alternative\n",
    "print(beliebiger_text*4)\n",
    "\n",
    "# C\n",
    "n = 100\n",
    "summe = 0\n",
    "for i in range(1, n+1):\n",
    "    # summe = summe + 1/i\n",
    "    summe += 1/i\n",
    "print(summe)\n",
    "\n",
    "# D - Die Fakultät ist das Produkt der erste n Zahlen\n",
    "n = 4\n",
    "print(\"test für n = 4\", 1*2*3*4)\n",
    "fakultät = 1\n",
    "for i in range(1,n+1):\n",
    "    fakultät = fakultät*i\n",
    "print(fakultät)"
   ],
   "outputs": [
    {
     "output_type": "stream",
     "name": "stdout",
     "text": [
      "1 2 4 8 16 32 64 128 256 512 \n",
      "1 2 4 8 16 32 64 128 256 512 \n",
      "beliebiger text\n",
      "beliebiger text\n",
      "beliebiger text\n",
      "beliebiger text\n",
      "beliebiger textbeliebiger textbeliebiger textbeliebiger text\n",
      "5.187377517639621\n",
      "test für n = 4 24\n",
      "24\n"
     ]
    }
   ],
   "metadata": {}
  },
  {
   "cell_type": "markdown",
   "source": [
    "### Listen\n",
    "Die Liste ist ein Basiscontainer in Python. In einen Container kann man beliebige Objekte sammeln. Listen werden mit eckigen Klammern erstellt oder einfach mit dem Befehl `list()`. Um einer Liste etwas hinzuzufügen benutzt man den Befehl `append()`. Weitere Befehle findet man unter docs.python.org/3/tutorial/datastructures.html. Um über eine Liste zu iterieren benötigt man häufig die Länge einer Liste dies liefert der Befehl `len`. Wir zeigen die Verwendung einer Liste in dem folgenden Beispiel."
   ],
   "metadata": {}
  },
  {
   "cell_type": "code",
   "execution_count": 12,
   "source": [
    "liste = [3, 4.5, 'Hund', True]\n",
    "laenge_liste = len(liste)\n",
    "print(\"Die Liste hat \" + str(laenge_liste) + \" viele Elemente.\")\n",
    "\n",
    "# Iterieren über eine Liste\n",
    "for i in liste:\n",
    "    print(i)\n",
    "\n",
    "# Zugriff über Index i\n",
    "for i in range(laenge_liste):\n",
    "    print(liste[i])"
   ],
   "outputs": [
    {
     "output_type": "stream",
     "name": "stdout",
     "text": [
      "Die Liste hat 4 viele Elemente.\n",
      "3\n",
      "4.5\n",
      "Hund\n",
      "True\n",
      "3\n",
      "4.5\n",
      "Hund\n",
      "True\n"
     ]
    }
   ],
   "metadata": {}
  },
  {
   "cell_type": "markdown",
   "source": [
    "### Aufgaben\n",
    "* Füge zwei Listen zusammen.\n",
    "* Entferne ein Element aus einer Liste.\n",
    "* Trenne eine Liste an einem gegebenen Index in zwei Teillisten (Hinweis: Lege neue Listen an.)"
   ],
   "metadata": {}
  },
  {
   "cell_type": "code",
   "execution_count": 13,
   "source": [
    "# Lösung\r\n",
    "# A\r\n",
    "l1 = [1,2,3]\r\n",
    "l2 = [4,5,6,7,7]\r\n",
    "l3 = []\r\n",
    "for i in l1:\r\n",
    "    l3.append(i)\r\n",
    "for i in l2:\r\n",
    "    l3.append(i)\r\n",
    "print(l3)\r\n",
    "\r\n",
    "# B\r\n",
    "l2.remove(7)\r\n",
    "print(l2)\r\n",
    "\r\n",
    "# C\r\n",
    "l4 = []\r\n",
    "l5 = []\r\n",
    "index = 3\r\n",
    "for i in range(len(l3)):\r\n",
    "    if i < 3:\r\n",
    "        l4.append(l3[i])\r\n",
    "    else:\r\n",
    "        l5.append(l3[i])\r\n",
    "print(l3, l4, l5)"
   ],
   "outputs": [
    {
     "output_type": "stream",
     "name": "stdout",
     "text": [
      "[1, 2, 3, 4, 5, 6, 7, 7]\n",
      "[4, 5, 6, 7]\n",
      "[1, 2, 3, 4, 5, 6, 7, 7] [1, 2, 3] [4, 5, 6, 7, 7]\n"
     ]
    }
   ],
   "metadata": {}
  },
  {
   "cell_type": "markdown",
   "source": [
    "### Aufgabe\n",
    "Bestimme alle Primzahlen von 2 bis 100 mithilfe des [Sieb des Eratostenes](https://de.wikipedia.org/wiki/Sieb_des_Eratosthenes)."
   ],
   "metadata": {}
  },
  {
   "cell_type": "code",
   "execution_count": 1,
   "source": [
    "# Lösung\r\n",
    "n = 100\r\n",
    "def primzahlen_bis(n):\r\n",
    "    liste = list(range(2,n+1))\r\n",
    "    primzahlen = []\r\n",
    "    while len(liste) > 0:\r\n",
    "        erste_element = liste.pop(0)\r\n",
    "        for element in liste:\r\n",
    "            if element % erste_element == 0:\r\n",
    "                liste.remove(element)\r\n",
    "        primzahlen.append(erste_element)\r\n",
    "    return primzahlen\r\n",
    "print(primzahlen_bis(100))"
   ],
   "outputs": [
    {
     "output_type": "stream",
     "name": "stdout",
     "text": [
      "[2, 3, 5, 7, 11, 13, 17, 19, 23, 29, 31, 37, 41, 43, 47, 53, 59, 61, 67, 71, 73, 79, 83, 89, 97]\n"
     ]
    }
   ],
   "metadata": {}
  },
  {
   "cell_type": "markdown",
   "source": [
    "### Aufgabe\n",
    "Schreibe die Zahl 100,000 als das Produkt von zwei Zahlen, die beide keine Null beinhalten.\n",
    "\n",
    "_Hinweis: `list(str(zahl))` liefert eine Zahl als Liste von String Objekten._"
   ],
   "metadata": {}
  },
  {
   "cell_type": "code",
   "execution_count": 2,
   "source": [
    "# Lösung\r\n",
    "for i in range(10000):\r\n",
    "    for j in range(10000):\r\n",
    "        if i*j == 100000:\r\n",
    "            if not '0' in list(str(i)) and not '0' in list(str(j)):\r\n",
    "                print(i,j)"
   ],
   "outputs": [
    {
     "output_type": "stream",
     "name": "stdout",
     "text": [
      "32 3125\n",
      "3125 32\n"
     ]
    }
   ],
   "metadata": {}
  },
  {
   "cell_type": "markdown",
   "source": [
    "### Aufgabe \n",
    "Ziehen Sie mithilfe von Numpy zwei Zufallszahlen. Wie kann man damit $\\pi$ approximieren?"
   ],
   "metadata": {}
  },
  {
   "cell_type": "code",
   "execution_count": 3,
   "source": [
    "# Lösung\r\n",
    "import numpy as np\r\n",
    "\r\n",
    "n = 100000\r\n",
    "found = 0\r\n",
    "for i in range(n):\r\n",
    "    a = np.random.rand()\r\n",
    "    b = np.random.rand()\r\n",
    "    if a**2 + b**2 <= 1:\r\n",
    "        found += 1\r\n",
    "print(4*found/n)"
   ],
   "outputs": [
    {
     "output_type": "stream",
     "name": "stdout",
     "text": [
      "3.13312\n"
     ]
    }
   ],
   "metadata": {}
  },
  {
   "cell_type": "markdown",
   "source": [
    "### Aufgabe \n",
    "Finde die kleinste natürliche Zahl die auf 6 endet und wenn man die 6 am Ende entfernt und an den Anfang stellt, vier mal so groß ist wie die ursprüngliche Zahl."
   ],
   "metadata": {}
  },
  {
   "cell_type": "code",
   "execution_count": 4,
   "source": [
    "# Lösung\r\n",
    "i = 0\r\n",
    "found = False\r\n",
    "while not found:\r\n",
    "    # wir wandeln die zahl in eine liste von string zahlen \r\n",
    "    liste_i = list(str(i))\r\n",
    "    # wenn diese liste am ende eine \"6\" hat könnte sie ein kandidat sein\r\n",
    "    if liste_i[-1] == \"6\":\r\n",
    "        # entfernen wir die \"6\" am Ende\r\n",
    "        neue_zahl = liste_i.pop(-1)\r\n",
    "        # und fügen vorne eine \"6\" an\r\n",
    "        liste_i.insert(0,\"6\")\r\n",
    "        # wir verbinden die elemente der Liste und wandeln sie in eine zahl um\r\n",
    "        neue_zahl = int(\"\".join(liste_i))\r\n",
    "        if neue_zahl/4 == i:\r\n",
    "            print(i)\r\n",
    "            found = True\r\n",
    "    i = i+1"
   ],
   "outputs": [
    {
     "output_type": "stream",
     "name": "stdout",
     "text": [
      "153846\n"
     ]
    }
   ],
   "metadata": {}
  },
  {
   "cell_type": "markdown",
   "source": [
    "### Aufgabe\n",
    "Ein Pythagoreisches Tripel ist eine Menge von drei natürlichen Zahlen $a<b<c$ für welche gilt:\n",
    " $$\n",
    "  a^2+b^2 = c^2\n",
    " $$\n",
    " Es gibt ein Tripel, für das gilt $a+b+c=1000$. Wie lautet das Produkt $abc$ dieses Tripel?"
   ],
   "metadata": {}
  },
  {
   "cell_type": "code",
   "execution_count": 5,
   "source": [
    "# Lösung\r\n",
    "for a in range(1, 1000):\r\n",
    "    for b in range(a+1, 1000):\r\n",
    "        c = np.sqrt(a**2 + b**2)\r\n",
    "        if a**2 + b**2 == c**2:\r\n",
    "            if a+b+c == 1000:\r\n",
    "                print(a,b,int(c))"
   ],
   "outputs": [
    {
     "output_type": "stream",
     "name": "stdout",
     "text": [
      "200 375 425\n"
     ]
    }
   ],
   "metadata": {}
  },
  {
   "cell_type": "markdown",
   "source": [
    "### Aufgabe\n",
    "Die Primfaktoren von $13195$ sind $5,7,13$ und $29$. Was ist der größte Primfaktor von $600851475143$?"
   ],
   "metadata": {}
  },
  {
   "cell_type": "code",
   "execution_count": 6,
   "source": [
    "# Lösung\r\n",
    "primzahlen = primzahlen_bis(100)"
   ],
   "outputs": [],
   "metadata": {}
  },
  {
   "cell_type": "code",
   "execution_count": 7,
   "source": [
    "zahl = 600851475143\r\n",
    "länge = len(primzahlen)\r\n",
    "i = länge-1\r\n",
    "while i >= 0:\r\n",
    "    if zahl % primzahlen[i] == 0:\r\n",
    "        print(primzahlen[i])\r\n",
    "        break\r\n",
    "    i = i-1"
   ],
   "outputs": [],
   "metadata": {}
  },
  {
   "cell_type": "code",
   "execution_count": null,
   "source": [],
   "outputs": [],
   "metadata": {}
  }
 ],
 "metadata": {
  "kernelspec": {
   "name": "python3",
   "display_name": "Python 3.9.7 64-bit"
  },
  "language_info": {
   "name": "python",
   "version": "3.9.7",
   "mimetype": "text/x-python",
   "codemirror_mode": {
    "name": "ipython",
    "version": 3
   },
   "pygments_lexer": "ipython3",
   "nbconvert_exporter": "python",
   "file_extension": ".py"
  },
  "interpreter": {
   "hash": "ac59ebe37160ed0dfa835113d9b8498d9f09ceb179beaac4002f036b9467c963"
  }
 },
 "nbformat": 4,
 "nbformat_minor": 1
}