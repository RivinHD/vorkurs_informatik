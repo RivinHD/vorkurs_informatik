{
 "cells": [
  {
   "cell_type": "markdown",
   "metadata": {},
   "source": [
    "## Lösung 1 ##\n",
    "1. wahr\n",
    "2. falsch\n",
    "\n",
    "## Lösung 2 ##\n",
    "1. $(a\\land\\lnot a)\\lor(a\\land b) = a\\land b$\n",
    "2. $(a\\lor b)\\land(\\lnot b\\lor b) = a\\lor b$\n",
    "3. $a$\n",
    "\n",
    "## Lösung 3 ##\n",
    "- $p\\land q = \\lnot (\\lnot (p\\land q))$\n",
    "- $p\\lor q = \\lnot (\\lnot p\\land \\lnot q)$\n",
    "- $p\\rightarrow q = \\lnot(\\lnot(\\lnot p\\land \\lnot q) \\land \\lnot q)$\n",
    "- $p\\leftrightarrow q =\\lnot(\\lnot (p\\land q)\\land\\lnot (\\lnot p\\land\\lnot q))$\n",
    "\n",
    "## Lösung 4 ##\n",
    "- B\n",
    "\n",
    "## Lösung 5 ##\n",
    "1. $(p\\leftrightarrow q) \\leftrightarrow ((p\\rightarrow q)\\land(q\\rightarrow q))$<br>\n",
    "   $(p\\leftrightarrow q) \\leftrightarrow ((\\lnot p\\rightarrow \\lnot q)\\land(\\lnot q\\rightarrow \\lnot p))$<br>\n",
    "   $(p\\leftrightarrow q) \\leftrightarrow ((\\lnot p\\leftrightarrow \\lnot q)\\land(\\lnot q\\leftrightarrow \\lnot p))$<br>\n",
    "   $(p\\leftrightarrow q) \\leftrightarrow ((\\lnot p)\\leftrightarrow (\\lnot q))$\n",
    "2. $?$\n",
    "3. $\\lnot(p\\rightarrow q))\\leftrightarrow (p\\land \\lnot q)$<br>\n",
    "   $\\lnot(p\\rightarrow q))\\leftrightarrow (\\lnot(\\lnot(p\\land \\lnot q))))$<br>\n",
    "   $\\lnot(p\\rightarrow q))\\leftrightarrow (\\lnot(\\lnot p\\lor q)))$<br>\n",
    "   $\\lnot(p\\rightarrow q))\\leftrightarrow (\\lnot(p\\rightarrow q)))$\n",
    "\n",
    "## Lösung 6 ##\n",
    "1. Die Zahl 4 ist nicht durch 2 teilbar.\n",
    "2. wahr\n",
    "3. wahr\n",
    "4. Alle natürliche Zahlen sind durch 1 teilbar.\n",
    "\n",
    "## Lösung 7 ##\n",
    "1. $D=(A\\cup B)\\times C$<br>\n",
    "   $\\forall (x,y)\\in D:(x,y)\\in (A\\cup B)\\times C\\leftrightarrow \\forall (x,y)\\in D: x\\in (A\\cup B)\\land y\\in C$<br>\n",
    "   $\\leftrightarrow \\forall (x,y)\\in D:(x\\in A\\cup x\\in B)\\land y\\in C$<br>\n",
    "   $\\leftrightarrow \\forall (x,y)\\in D:(x\\in A\\land y\\in C)\\lor(x\\in B\\land y\\in C))$<br>\n",
    "   $\\leftrightarrow \\forall (x,y)\\in D:(x,y)\\in(A\\times C)\\lor(x,y)\\in(B\\times C)$<br>\n",
    "   $\\leftrightarrow \\forall (x,y)\\in D:(x,y)\\in(A\\times C)\\lor(B\\times C)$\n",
    "2. $D=(A\\backslash B)\\times C$<br>\n",
    "   $\\forall (x,y)\\in D:(x,y)\\in (A\\backslash B)\\times C\\leftrightarrow \\forall (x,y)\\in D: x\\in (A\\backslash B)\\land y\\in C$<br>\n",
    "   $\\leftrightarrow \\forall (x,y)\\in D:(x\\in A\\land y\\in C)\\backslash(x\\in B\\land y\\in C)$<br>\n",
    "   $\\leftrightarrow \\forall (x,y)\\in D:(x,y)\\in(A\\times C)\\backslash(x,y)\\in(B\\times C)$<br>\n",
    "   $\\leftrightarrow \\forall (x,y)\\in D:(x,y)\\in(A\\times C)\\backslash(B\\times C)$\n",
    "3. $D = (C\\times C)\\cup(A\\times B)$<br>\n",
    "   $\\forall (x,y)\\in D:(x,y)\\in (C\\times C)\\cup(A\\times B)\\leftrightarrow \\forall (x,y)\\in D: (x\\in C\\land y\\in C) \\lor (x\\in A\\land y\\in B)$<br>\n",
    "   $\\leftrightarrow \\forall (x,y)\\in D:(x\\in C\\lor (x\\in A\\land y\\in B))\\land(y\\in C\\lor (x\\in A\\land y\\in B))$<br>\n",
    "   $\\leftrightarrow \\forall (x,y)\\in D:((x\\in C\\land x\\in A)\\lor(x\\in C\\land y\\in B))\\land((y\\in C\\land x\\in A)\\lor(y\\in C\\land y\\in B)) \\rightarrow falsch$<br>\n",
    "\n",
    "## Lösung 8 ##"
   ]
  },
  {
   "cell_type": "code",
   "execution_count": 16,
   "metadata": {},
   "outputs": [
    {
     "name": "stdout",
     "output_type": "stream",
     "text": [
      "[['p' 'q' 'r' 's' 't' 'result']\n",
      " ['True' 'True' 'True' 'True' 'True' 'False']\n",
      " ['True' 'True' 'True' 'True' 'False' 'True']\n",
      " ['True' 'True' 'True' 'False' 'True' 'False']\n",
      " ['True' 'True' 'True' 'False' 'False' 'True']\n",
      " ['True' 'True' 'False' 'True' 'True' 'False']\n",
      " ['True' 'True' 'False' 'True' 'False' 'False']\n",
      " ['True' 'True' 'False' 'False' 'True' 'False']\n",
      " ['True' 'True' 'False' 'False' 'False' 'False']\n",
      " ['True' 'False' 'True' 'True' 'True' 'False']\n",
      " ['True' 'False' 'True' 'True' 'False' 'True']\n",
      " ['True' 'False' 'True' 'False' 'True' 'False']\n",
      " ['True' 'False' 'True' 'False' 'False' 'True']\n",
      " ['True' 'False' 'False' 'True' 'True' 'False']\n",
      " ['True' 'False' 'False' 'True' 'False' 'False']\n",
      " ['True' 'False' 'False' 'False' 'True' 'False']\n",
      " ['True' 'False' 'False' 'False' 'False' 'False']\n",
      " ['False' 'True' 'True' 'True' 'True' 'True']\n",
      " ['False' 'True' 'True' 'True' 'False' 'True']\n",
      " ['False' 'True' 'True' 'False' 'True' 'False']\n",
      " ['False' 'True' 'True' 'False' 'False' 'True']\n",
      " ['False' 'True' 'False' 'True' 'True' 'True']\n",
      " ['False' 'True' 'False' 'True' 'False' 'True']\n",
      " ['False' 'True' 'False' 'False' 'True' 'False']\n",
      " ['False' 'True' 'False' 'False' 'False' 'False']\n",
      " ['False' 'False' 'True' 'True' 'True' 'True']\n",
      " ['False' 'False' 'True' 'True' 'False' 'True']\n",
      " ['False' 'False' 'True' 'False' 'True' 'False']\n",
      " ['False' 'False' 'True' 'False' 'False' 'True']\n",
      " ['False' 'False' 'False' 'True' 'True' 'True']\n",
      " ['False' 'False' 'False' 'True' 'False' 'True']\n",
      " ['False' 'False' 'False' 'False' 'True' 'False']\n",
      " ['False' 'False' 'False' 'False' 'False' 'False']]\n",
      "14\n"
     ]
    }
   ],
   "source": [
    "import numpy as np\n",
    "import itertools\n",
    "\n",
    "results = []\n",
    "for p in [True, False]:\n",
    "    for q in [True, False]:\n",
    "        for r in [True, False]:\n",
    "            for s in [True, False]:\n",
    "                for t in [True, False]:\n",
    "                    results.append((p, q, r, s, t, (not(not(p) and q or r) and (s or t) and (r and not(t)) and t) or (r and not(t)) or (s and not(p))))\n",
    "print(np.array([[\"p\", \"q\", \"r\", \"s\", \"t\", \"result\"],*results]))\n",
    "print(len([x for x in results if x[-1]]))"
   ]
  }
 ],
 "metadata": {
  "interpreter": {
   "hash": "ac59ebe37160ed0dfa835113d9b8498d9f09ceb179beaac4002f036b9467c963"
  },
  "kernelspec": {
   "display_name": "Python 3.9.7 64-bit",
   "name": "python3"
  },
  "language_info": {
   "codemirror_mode": {
    "name": "ipython",
    "version": 3
   },
   "file_extension": ".py",
   "mimetype": "text/x-python",
   "name": "python",
   "nbconvert_exporter": "python",
   "pygments_lexer": "ipython3",
   "version": "3.9.7"
  },
  "orig_nbformat": 4
 },
 "nbformat": 4,
 "nbformat_minor": 2
}
