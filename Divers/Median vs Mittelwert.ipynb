{
 "cells": [
  {
   "cell_type": "code",
   "execution_count": 1,
   "id": "3e0093f6",
   "metadata": {},
   "outputs": [],
   "source": [
    "import numpy as np\n",
    "import matplotlib.pyplot as plt"
   ]
  },
  {
   "cell_type": "markdown",
   "id": "212aeb99",
   "metadata": {},
   "source": [
    "Wir erzeugen zuerst einige Punkte. Diese sind Normalverteilt mit Mittelwert 10 und Varianz 5."
   ]
  },
  {
   "cell_type": "code",
   "execution_count": 2,
   "id": "648e71db",
   "metadata": {},
   "outputs": [
    {
     "name": "stdout",
     "output_type": "stream",
     "text": [
      "[12.894917176587434, 4.67085852693172, 6.197664403781432, 6.032918996921911, 4.083139413731509, 8.176898238208295, 9.55796765047848, 10.396351129044428, 18.986402790692715, 8.86853053821761]\n"
     ]
    }
   ],
   "source": [
    "points = []\n",
    "for i in range(10):\n",
    "    points.append(np.random.normal(10.0, 5.0))\n",
    "\n",
    "print(points)"
   ]
  },
  {
   "cell_type": "markdown",
   "id": "b68a3e84",
   "metadata": {},
   "source": [
    "Wir können uns diese Punkte nun einfach mal auf einer Geraden anschauen und sehen, sie sind natürlich um die 10 herum verteilt."
   ]
  },
  {
   "cell_type": "code",
   "execution_count": 3,
   "id": "2c503bc7",
   "metadata": {},
   "outputs": [
    {
     "data": {
      "text/plain": [
       "[<matplotlib.lines.Line2D at 0x2dfc45c3748>]"
      ]
     },
     "execution_count": 3,
     "metadata": {},
     "output_type": "execute_result"
    },
    {
     "data": {
      "image/png": "[encoded data removed]",
      "text/plain": [
       "<Figure size 432x288 with 1 Axes>"
      ]
     },
     "metadata": {
      "needs_background": "light"
     },
     "output_type": "display_data"
    }
   ],
   "source": [
    "plt.plot(points, [1]*len(points), \"s\")"
   ]
  },
  {
   "cell_type": "markdown",
   "id": "c8847cef",
   "metadata": {},
   "source": [
    "Nun erzeugen wir eine zweite Liste mit allen Punkten aus der ersten und einen zusätzlichen Punkt 10e10 = 10000000000"
   ]
  },
  {
   "cell_type": "code",
   "execution_count": 9,
   "id": "2822e309",
   "metadata": {},
   "outputs": [
    {
     "name": "stdout",
     "output_type": "stream",
     "text": [
      "[12.894917176587434, 4.67085852693172, 6.197664403781432, 6.032918996921911, 4.083139413731509, 8.176898238208295, 9.55796765047848, 10.396351129044428, 18.986402790692715, 8.86853053821761, 1000.0]\n"
     ]
    }
   ],
   "source": [
    "points2 = points.copy()\n",
    "points2.append(1e3)\n",
    "print(points2)"
   ]
  },
  {
   "cell_type": "markdown",
   "id": "40f8e898",
   "metadata": {},
   "source": [
    "Hier schauen wir das einmal an und wir sehen alle anderen Punkte liegen ganz nah beieinander und ganz rechts ist ein Ausreißer. "
   ]
  },
  {
   "cell_type": "code",
   "execution_count": 10,
   "id": "8249084b",
   "metadata": {},
   "outputs": [
    {
     "data": {
      "text/plain": [
       "[<matplotlib.lines.Line2D at 0x2dfc4995710>]"
      ]
     },
     "execution_count": 10,
     "metadata": {},
     "output_type": "execute_result"
    },
    {
     "data": {
      "image/png": "[encoded data removed]",
      "text/plain": [
       "<Figure size 432x288 with 1 Axes>"
      ]
     },
     "metadata": {
      "needs_background": "light"
     },
     "output_type": "display_data"
    }
   ],
   "source": [
    "plt.plot(points2, [1]*len(points2), \"s\")"
   ]
  },
  {
   "cell_type": "markdown",
   "id": "41fbf005",
   "metadata": {},
   "source": [
    "Schauen wir uns nun einmal den berechneten Mittelwert und Median der beiden Listen an. Wir sehen, dass der Median auf der 2. Liste viel stabiler ist."
   ]
  },
  {
   "cell_type": "code",
   "execution_count": 11,
   "id": "8223f6a0",
   "metadata": {},
   "outputs": [
    {
     "name": "stdout",
     "output_type": "stream",
     "text": [
      "Mean 8.986564886459552 vs 99.07869535132687\n"
     ]
    }
   ],
   "source": [
    "print(\"Mean\", np.mean(points), \"vs\", np.mean(points2))"
   ]
  },
  {
   "cell_type": "code",
   "execution_count": 8,
   "id": "7343d782",
   "metadata": {},
   "outputs": [
    {
     "name": "stdout",
     "output_type": "stream",
     "text": [
      "Median 8.522714388212954 vs 8.86853053821761\n"
     ]
    }
   ],
   "source": [
    "print(\"Median\", np.median(points), \"vs\", np.median(points2))"
   ]
  },
  {
   "cell_type": "code",
   "execution_count": null,
   "id": "f554b44f",
   "metadata": {},
   "outputs": [],
   "source": []
  }
 ],
 "metadata": {
  "kernelspec": {
   "display_name": "Python 3",
   "language": "python",
   "name": "python3"
  },
  "language_info": {
   "codemirror_mode": {
    "name": "ipython",
    "version": 3
   },
   "file_extension": ".py",
   "mimetype": "text/x-python",
   "name": "python",
   "nbconvert_exporter": "python",
   "pygments_lexer": "ipython3",
   "version": "3.7.3"
  }
 },
 "nbformat": 4,
 "nbformat_minor": 5
}
