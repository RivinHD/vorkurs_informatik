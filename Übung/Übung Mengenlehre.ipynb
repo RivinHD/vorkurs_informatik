{
 "cells": [
  {
   "cell_type": "markdown",
   "source": [
    "# Übungen zur Mengenlehre\r\n",
    "\r\n",
    "In Python können wir Mengen mit Hilfe von `set([1,2,3])` angelegt werden. Weiter gibt es für Methoden um auf diesen zu arbeiten:\r\n",
    "* Vereinigung - `union` - `|`\r\n",
    "* Differenz - `difference` - `-`\r\n",
    "* Schnitt - `intersection` - `&`\r\n",
    "\r\n",
    "Zur Wiederholung bearbeiten Sie bitte zuerst die folgenden Übungen.\r\n",
    "\r\n",
    "## Aufgabe 1 ##\r\n",
    "Geben Sie die folgenden Mengen in beschreibender Form an. Die beschreibende Menge für die aufgezählte Menge $\\{1,2,3,\\dots\\}$ wäre beispielsweise die Menge $\\{i|i\\in\\mathbb{N}\\}$.\r\n",
    " 1. $A = \\{1,2,3,\\dots\\}$,\r\n",
    " 2. $B = \\{-1,0,1\\}$, \r\n",
    " 3. $C = \\{,\\dots, -2, -1, 0\\}$,\r\n",
    " 4. $D = \\{0,1,2,4,8,16\\}$."
   ],
   "metadata": {}
  },
  {
   "cell_type": "markdown",
   "source": [
    "## Lösung 1 ##\r\n",
    " 1. $B = \\{i|i\\in\\mathbb{Z},-1 \\ge i \\ge 1\\}$,\r\n",
    " 2. $C = \\{i|i\\in\\mathbb{Z}, i \\ge 0\\}$,\r\n",
    " 3. $D = \\{i|i=2^{x}\\cup\\{0\\},x\\in\\mathbb{N}_{0}, x \\ge 4\\}$."
   ],
   "metadata": {}
  },
  {
   "cell_type": "markdown",
   "source": [
    "## Aufgabe 2 ##\r\n",
    "Zählen Sie jeweils die Elemente der Menge auf.\r\n",
    " 1. $A=\\{i\\in\\mathbb{N}|1\\leq 2^i < 21\\}$,\r\n",
    " 2. $B=\\{i\\in\\mathbb{N}|1<i\\leq 4\\}$,\r\n",
    " 3. $C=\\{i\\in\\mathbb{N}|i^4 = 9\\}$,\r\n",
    " 4. $D=\\{i\\in\\mathbb{N}|i\\in[1,10)\\}$."
   ],
   "metadata": {}
  },
  {
   "cell_type": "markdown",
   "source": [
    "## Lösung 2 ##\r\n",
    "1. $A = \\{1,2,3,4\\}$,\r\n",
    "2. $B = \\{2,3,4\\}$,\r\n",
    "3. $C = \\{\\}$,\r\n",
    "4. $D = \\{1,2,3,4,5,6,7,8,9\\}$."
   ],
   "metadata": {}
  },
  {
   "cell_type": "markdown",
   "source": [
    "## Aufgabe 3 ##\r\n",
    "Geben Sie alle acht Teilmengen von $\\{2,3,1\\}$ an."
   ],
   "metadata": {}
  },
  {
   "cell_type": "markdown",
   "source": [
    "## Lösung 3 ##\r\n",
    "  \\[\r\n",
    "   $\\mathcal{P}(\\{2,3,1\\}) = \\{\\{\\}, \\{2\\}\\, \\{3\\}, \\{1\\}, \\{2, 3\\}, \\{2, 1\\}, \\{3, 1\\}, \\{2, 3, 1\\}\\}$.\r\n",
    "  \\]"
   ],
   "metadata": {}
  },
  {
   "cell_type": "markdown",
   "source": [
    "\r\n",
    "## Aufgabe 4 ## \r\n",
    "Vereinfachen Sie die folgenden Mengen:\r\n",
    " 1. $A\\cap A$,\r\n",
    " 2. $A\\cup A$,\r\n",
    " 3. $\\{0,1\\}\\cap\\{1\\}$,\r\n",
    " 4. $\\emptyset\\cap\\{1\\}$,\r\n",
    " 5. $\\emptyset\\cup\\{0\\}$,\r\n",
    " 6. $A\\cap\\overline{A}$.\r\n"
   ],
   "metadata": {}
  },
  {
   "cell_type": "markdown",
   "source": [
    "## Lösung 4 ##\r\n",
    "1. $A$,\r\n",
    "2. $A$,\r\n",
    "3. $\\{1\\}$,\r\n",
    "4. $\\emptyset$\r\n",
    "5. $\\{0\\}$\r\n",
    "6. $\\emptyset$"
   ],
   "metadata": {}
  },
  {
   "cell_type": "markdown",
   "source": [
    "## Aufgabe 5 ## \r\n",
    "Wieviele Elemente hat die Menge $M=\\{x|x^2 = 9, x\\in\\mathbb{R}\\}$. Versuchen Sie auch dies in Python zu lösen."
   ],
   "metadata": {}
  },
  {
   "cell_type": "markdown",
   "source": [
    "## Lösung 5 ##\r\n",
    "$M = \\{-3, 3\\}$\r\n"
   ],
   "metadata": {}
  },
  {
   "cell_type": "code",
   "execution_count": 1,
   "source": [
    "import numpy as np\r\n",
    "print(set(i for i in range(-100, 101) if i**2 == 9))"
   ],
   "outputs": [
    {
     "output_type": "stream",
     "name": "stdout",
     "text": [
      "{3, -3}\n"
     ]
    }
   ],
   "metadata": {}
  },
  {
   "cell_type": "markdown",
   "source": [
    "\r\n",
    "## Aufgabe 6 ##\r\n",
    "Geben Sie drei mögliche Darstellungen der Menge der ersten zehn natürlichen Zahlen an."
   ],
   "metadata": {}
  },
  {
   "cell_type": "markdown",
   "source": [
    "## Lösung 6##\r\n",
    "$M = \\{1,2,3,4,5,6,7,8,9,10\\} = \\{i|i\\in\\mathbb{N}, i \\le 10\\} = \\{i|i\\in\\mathbb{N}, i \\gt 10\\}$\r\n"
   ],
   "metadata": {}
  },
  {
   "cell_type": "markdown",
   "source": [
    "\r\n",
    "## Aufgabe 7 ##\r\n",
    "Geben Sie die folgenden Mengen als kartesische Produkte von Mengen an:\r\n",
    " 1. Die Menge aller 4-Tupel, bei deinen an erster und letzter Stelle ein lateinischer Buchstabe steht und an allen anderen Stellen eine natürliche Zahl\r\n",
    " 2. Die Menge aller 3-Tupel, bei deinen an der ersten Stelle ein lateinischer Buchstabe steht, an der zweiten Stelle eine natürliche Zahl und an der dritten Stelle entweder ein lateinischer Buchstabe oder eine Reelle Zahl.\r\n"
   ],
   "metadata": {}
  },
  {
   "cell_type": "markdown",
   "source": [
    "## Lösung 7 ##\r\n",
    "$LB = lateinische\\space Buchstaben$\r\n",
    "1. $A = LB \\times \\mathbb{N} \\times \\mathbb{N} \\times LB$\r\n",
    "2. $B = LB \\times \\mathbb{N} \\times (LB \\cup \\mathbb{R})$"
   ],
   "metadata": {}
  },
  {
   "cell_type": "markdown",
   "source": [
    "## Aufgabe 8 ##\r\n",
    "Eine Versichungsunternehmen hat alle seine Kunden in der Menge `K` gespeichert. In der Menge `U` sind alle, die einen Unfall veruracht haben, in `S` alle die einen Strafzettel für zu schnelles fahren erhalten haben und in `A` alle die wegen Alkohol am Steuer verurteilt wurden.\r\n",
    "\r\n",
    "Zähle die folgenden Mengen mit Hilfe von Python und der `len` Operation und schreibe sie in der Mengenschreibweise auf.\r\n",
    " 1. Kunden, die alkoholisiert waren und einen Strafzettel erhalten haben\r\n",
    " 2. Kunden, die noch kein Vergehen haben\r\n",
    " 3. Kunden, die zu schnell gefahren sind oder getrunken haben\r\n",
    " 4. Kunden, die weder einen Unfall hatten noch einen Strafzettel bekommen haben"
   ],
   "metadata": {}
  },
  {
   "cell_type": "code",
   "execution_count": 18,
   "source": [
    "K = set([\"Teddie Reid\", \"Remi Dawe\", \"Madeleine Calvert\", \"Hadi Yates\", \"Aishah Morrison\", \"Beverly Cordova\", \"Harvir Reader\", \"Rhian Marsh\", \"Sabah Pennington\", \"Adelina Webster\", \"Ameena Whitehouse\", \"Zoha Stone\", \"Reo Bonilla\", \"Brodie Oliver\", \"Fariha Good\", \"Jacques Whitmore\", \"Emmanuel Owen\", \"Ava-May Ponce\", \"Madihah Bates\", \"Aidan Nielsen\", \"Maxime Harper\", \"Ashlee Wilde\", \"Sophia-Rose Bowler\", \"Harriette Holman\", \"Serena Andrews\", \"Theon Bannister\"])\r\n",
    "U = set(['Reo Bonilla', 'Teddie Reid', 'Hadi Yates', 'Harvir Reader', 'Madihah Bates', 'Ameena Whitehouse', 'Teddie Reid', 'Madeleine Calvert', 'Sabah Pennington', 'Madihah Bates', 'Beverly Cordova'])\r\n",
    "S = set(['Harriette Holman', 'Zoha Stone', 'Madeleine Calvert', 'Emmanuel Owen', 'Harriette Holman'])\r\n",
    "A = set(['Ameena Whitehouse', 'Fariha Good', 'Sophia-Rose Bowler', 'Teddie Reid', 'Hadi Yates', 'Zoha Stone', 'Remi Dawe', 'Rhian Marsh', 'Teddie Reid', 'Serena Andrews', 'Harvir Reader', 'Zoha Stone', 'Ashlee Wilde', 'Jacques Whitmore', 'Theon Bannister', 'Emmanuel Owen', 'Aishah Morrison', 'Madeleine Calvert', 'Rhian Marsh', 'Hadi Yates', 'Adelina Webster'])\r\n",
    "\r\n",
    "#Lösungen\r\n",
    "print(\"K: %i Personen, U: %i Personen, S: %i Personen, A: %i Personen\"%(len(K), len(U), len(S), len(A)))\r\n",
    "\r\n",
    "print(\"1.\", A.intersection(S))\r\n",
    "print(\"2.\", K.difference(U).difference(S).difference(A))\r\n",
    "print(\"3.\", S.intersection(A))\r\n",
    "print(\"4.\", U.intersection(S))"
   ],
   "outputs": [
    {
     "output_type": "stream",
     "name": "stdout",
     "text": [
      "K: 26 Personen, U: 9 Personen, S: 4 Personen, A: 17 Personen\n",
      "1. {'Zoha Stone', 'Emmanuel Owen', 'Madeleine Calvert'}\n",
      "2. {'Aidan Nielsen', 'Ava-May Ponce', 'Brodie Oliver', 'Maxime Harper'}\n",
      "3. {'Zoha Stone', 'Emmanuel Owen', 'Madeleine Calvert'}\n",
      "4. {'Madeleine Calvert'}\n"
     ]
    }
   ],
   "metadata": {}
  }
 ],
 "metadata": {
  "kernelspec": {
   "name": "python3",
   "display_name": "Python 3.9.7 64-bit"
  },
  "language_info": {
   "codemirror_mode": {
    "name": "ipython",
    "version": 3
   },
   "file_extension": ".py",
   "mimetype": "text/x-python",
   "name": "python",
   "nbconvert_exporter": "python",
   "pygments_lexer": "ipython3",
   "version": "3.9.7"
  },
  "interpreter": {
   "hash": "ac59ebe37160ed0dfa835113d9b8498d9f09ceb179beaac4002f036b9467c963"
  }
 },
 "nbformat": 4,
 "nbformat_minor": 4
}